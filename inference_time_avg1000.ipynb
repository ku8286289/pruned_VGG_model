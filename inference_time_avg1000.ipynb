{
  "nbformat": 4,
  "nbformat_minor": 0,
  "metadata": {
    "colab": {
      "provenance": []
    },
    "kernelspec": {
      "name": "python3",
      "display_name": "Python 3"
    },
    "language_info": {
      "name": "python"
    }
  },
  "cells": [
    {
      "cell_type": "code",
      "source": [
        "from google.colab import drive\n",
        "drive.mount('/content/drive')"
      ],
      "metadata": {
        "colab": {
          "base_uri": "https://localhost:8080/"
        },
        "id": "FuzmeozBQw4S",
        "outputId": "7acafb8d-f6c7-43e0-9ec8-d07b4d443d04"
      },
      "execution_count": null,
      "outputs": [
        {
          "output_type": "stream",
          "name": "stdout",
          "text": [
            "Drive already mounted at /content/drive; to attempt to forcibly remount, call drive.mount(\"/content/drive\", force_remount=True).\n"
          ]
        }
      ]
    },
    {
      "cell_type": "code",
      "execution_count": null,
      "metadata": {
        "id": "8kyG1ELhO54h"
      },
      "outputs": [],
      "source": [
        "import tensorflow as tf\n",
        "import numpy as np\n",
        "import time\n",
        "import matplotlib.pyplot as plt\n",
        "from PIL import Image\n",
        "import urllib\n",
        "import requests\n",
        "from io import BytesIO"
      ]
    },
    {
      "cell_type": "code",
      "source": [
        "models = [\n",
        "    '/content/drive/MyDrive/model/sep_struc_pruning_model_05_quantization.tflite',\n",
        "    '/content/drive/MyDrive/model/sep_vgg.tflite'\n",
        "]"
      ],
      "metadata": {
        "id": "NdnSS0C8O8EF"
      },
      "execution_count": null,
      "outputs": []
    },
    {
      "cell_type": "code",
      "source": [
        "image = \"/content/drive/MyDrive/1605576010499189.jpg\""
      ],
      "metadata": {
        "id": "4FllqxcoVKRt"
      },
      "execution_count": null,
      "outputs": []
    },
    {
      "cell_type": "code",
      "source": [
        "def load_and_preprocess_image(image):\n",
        "    image = Image.open(image)\n",
        "    image = image.resize((224, 224))\n",
        "    image = image.convert('RGB')\n",
        "    image_data = np.array(image).astype(np.float32) / 255.0\n",
        "    image_data = np.expand_dims(image_data, axis=0)\n",
        "    return image_data"
      ],
      "metadata": {
        "id": "c466frIfVLhd"
      },
      "execution_count": null,
      "outputs": []
    },
    {
      "cell_type": "code",
      "source": [
        "def evaluate_tflite_model(model_path, input_data, num_iterations=1000):\n",
        "    interpreter = tf.lite.Interpreter(model_path=model_path)\n",
        "    interpreter.allocate_tensors()\n",
        "\n",
        "    input_details = interpreter.get_input_details()\n",
        "    output_details = interpreter.get_output_details()\n",
        "\n",
        "    interpreter.set_tensor(input_details[0]['index'], input_data)\n",
        "\n",
        "    total_time = 0.0\n",
        "    for _ in range(num_iterations):\n",
        "        start_time = time.time()\n",
        "        interpreter.invoke()\n",
        "        inference_time = time.time() - start_time\n",
        "        total_time += inference_time\n",
        "\n",
        "    average_inference_time = total_time / num_iterations\n",
        "\n",
        "    output_data = interpreter.get_tensor(output_details[0]['index'])\n",
        "    return average_inference_time, output_data"
      ],
      "metadata": {
        "id": "RClt4AsgVQgJ"
      },
      "execution_count": null,
      "outputs": []
    },
    {
      "cell_type": "code",
      "source": [
        "input_image = load_and_preprocess_image(image)"
      ],
      "metadata": {
        "id": "V5dFg3emVR4Y"
      },
      "execution_count": null,
      "outputs": []
    },
    {
      "cell_type": "code",
      "source": [
        "for model in models:\n",
        "    avg_inference_time, output = evaluate_tflite_model(model, input_image)\n",
        "    print(f\"Model: {model}, Average Inference Time (over 1000 iterations): {avg_inference_time:.4f} seconds\")"
      ],
      "metadata": {
        "colab": {
          "base_uri": "https://localhost:8080/"
        },
        "id": "XNvQjZAnVTin",
        "outputId": "305db925-1e4f-4b7f-ece0-1e6b9e7bee71"
      },
      "execution_count": null,
      "outputs": [
        {
          "output_type": "stream",
          "name": "stdout",
          "text": [
            "Model: /content/drive/MyDrive/model/sep_struc_pruning_model_05_quantization.tflite, Average Inference Time (over 1000 iterations): 0.1525 seconds\n",
            "Model: /content/drive/MyDrive/model/sep_vgg.tflite, Average Inference Time (over 1000 iterations): 0.1529 seconds\n"
          ]
        }
      ]
    },
    {
      "cell_type": "code",
      "source": [],
      "metadata": {
        "id": "my5mIS28TADw"
      },
      "execution_count": null,
      "outputs": []
    }
  ]
}